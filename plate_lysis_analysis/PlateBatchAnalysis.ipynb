{
 "cells": [
  {
   "cell_type": "markdown",
   "metadata": {},
   "source": [
    "# Plate Batch Hit Analysis\n",
    "**Written by:** Julie Chen\\\n",
    "**Written on:** 20230122\\\n",
    "**Last Updated**: 20230319"
   ]
  },
  {
   "cell_type": "markdown",
   "metadata": {},
   "source": [
    "# Inputs & Imports"
   ]
  },
  {
   "cell_type": "markdown",
   "metadata": {},
   "source": [
    "## configurable"
   ]
  },
  {
   "cell_type": "code",
   "execution_count": null,
   "metadata": {
    "ExecuteTime": {
     "end_time": "2023-06-09T11:58:03.880695Z",
     "start_time": "2023-06-09T11:58:03.875247Z"
    }
   },
   "outputs": [],
   "source": [
    "# batch_file_prefix_\n",
    "file_id = 'batch_'\n",
    "\n",
    "# path to scripts\n",
    "script_reroute = '../path/'"
   ]
  },
  {
   "cell_type": "code",
   "execution_count": null,
   "metadata": {
    "ExecuteTime": {
     "end_time": "2023-06-09T11:58:05.604236Z",
     "start_time": "2023-06-09T11:58:05.601163Z"
    }
   },
   "outputs": [],
   "source": [
    "# to generate kinetic figure timepoints \n",
    "total_tps = 48\n",
    "\n",
    "# half-an-hour tps\n",
    "exact_tp = [i/2 for i in range(total_tps)]"
   ]
  },
  {
   "cell_type": "markdown",
   "metadata": {
    "heading_collapsed": true
   },
   "source": [
    "## standard"
   ]
  },
  {
   "cell_type": "code",
   "execution_count": null,
   "metadata": {
    "ExecuteTime": {
     "end_time": "2023-06-09T11:58:05.447747Z",
     "start_time": "2023-06-09T11:58:05.442324Z"
    },
    "hidden": true
   },
   "outputs": [],
   "source": [
    "import os\n",
    "out_base = './output/'\n",
    "out_path = out_base+file_id\n",
    "batch_base = './output/batch/'\n",
    "batch_path = batch_base+file_id\n",
    "network_base = './output/network/'\n",
    "network_path = network_base+file_id\n",
    "\n",
    "os.makedirs(out_base, exist_ok=True)\n",
    "os.makedirs(batch_base, exist_ok=True)\n",
    "os.makedirs(network_base, exist_ok=True)"
   ]
  },
  {
   "cell_type": "markdown",
   "metadata": {
    "heading_collapsed": true
   },
   "source": [
    "## packages & scripts "
   ]
  },
  {
   "cell_type": "code",
   "execution_count": null,
   "metadata": {
    "ExecuteTime": {
     "end_time": "2023-06-09T11:58:11.502678Z",
     "start_time": "2023-06-09T11:58:06.476278Z"
    },
    "hidden": true
   },
   "outputs": [],
   "source": [
    "import re\n",
    "import glob\n",
    "import numpy as np\n",
    "import pandas as pd\n",
    "import scipy\n",
    "import scipy.stats as stats\n",
    "from sklearn.metrics import auc\n",
    "from statsmodels.stats.multitest import multipletests\n",
    "import itertools\n",
    "\n",
    "import warnings\n",
    "warnings.filterwarnings('ignore')\n",
    "\n",
    "import seaborn as sns\n",
    "import matplotlib.pyplot as plt\n",
    "from matplotlib.backends.backend_pdf import PdfPages\n",
    "%matplotlib inline\n",
    "\n",
    "import sys\n",
    "sys.path.insert(1, script_reroute)\n",
    "import sytox_scripts.bootstrap_and_z as bsz\n",
    "import sytox_scripts.supplementary as helper\n",
    "import sytox_scripts.cocultures as cocultures"
   ]
  },
  {
   "cell_type": "code",
   "execution_count": null,
   "metadata": {
    "ExecuteTime": {
     "end_time": "2023-06-09T11:58:11.518178Z",
     "start_time": "2023-06-09T11:58:11.512118Z"
    },
    "hidden": true
   },
   "outputs": [],
   "source": [
    "# plotting style\n",
    "plot_path = script_reroute+'sytox_scripts/plotting_parameters.py'\n",
    "%run $plot_path"
   ]
  },
  {
   "cell_type": "markdown",
   "metadata": {},
   "source": [
    "# Dataset Formatting"
   ]
  },
  {
   "cell_type": "markdown",
   "metadata": {
    "heading_collapsed": true
   },
   "source": [
    "## import files & concatenate"
   ]
  },
  {
   "cell_type": "code",
   "execution_count": null,
   "metadata": {
    "ExecuteTime": {
     "end_time": "2023-04-19T13:21:10.745090Z",
     "start_time": "2023-04-19T13:21:10.706910Z"
    },
    "hidden": true
   },
   "outputs": [],
   "source": [
    "def concatenate_files(suffix, import_dir=out_base, save_desc='', save_dir=batch_path):\n",
    "    ''' Collect ind. files from all plates in directory, concatenate into single dataframe. '''\n",
    "    files = [file for file in glob.glob(import_dir+'*'+suffix+'.csv')]\n",
    "    dfs = []\n",
    "    \n",
    "    for f in files:\n",
    "        dfs.append(pd.read_csv(f, index_col=0))\n",
    "    \n",
    "    concat_df = pd.concat(dfs).reset_index()\n",
    "    concat_df.to_csv(save_dir+suffix+save_desc+'.csv')\n",
    "    \n",
    "    return concat_df"
   ]
  },
  {
   "cell_type": "code",
   "execution_count": null,
   "metadata": {
    "ExecuteTime": {
     "end_time": "2023-04-19T13:21:16.149453Z",
     "start_time": "2023-04-19T13:21:11.093791Z"
    },
    "hidden": true
   },
   "outputs": [],
   "source": [
    "batch_kinetic = concatenate_files('summarized_all_combos_kinetic')"
   ]
  },
  {
   "cell_type": "code",
   "execution_count": null,
   "metadata": {
    "ExecuteTime": {
     "end_time": "2023-04-19T13:21:17.599223Z",
     "start_time": "2023-04-19T13:21:17.296137Z"
    },
    "hidden": true
   },
   "outputs": [],
   "source": [
    "batch_nk = concatenate_files('summarized_all_combos_nonkinetic')"
   ]
  },
  {
   "cell_type": "code",
   "execution_count": null,
   "metadata": {
    "ExecuteTime": {
     "end_time": "2023-04-19T13:21:25.551621Z",
     "start_time": "2023-04-19T13:21:19.262046Z"
    },
    "hidden": true
   },
   "outputs": [],
   "source": [
    "# clean NaNs generated\n",
    "batch_kinetic = batch_kinetic[~batch_kinetic.Combo_simple.isna()].reset_index(drop=True)\n",
    "batch_nk = batch_nk[~batch_nk.Combo_simple.isna()].reset_index(drop=True)\n",
    "\n",
    "batch_kinetic.to_csv(batch_path+'summarized_all_combos_kinetic.csv')\n",
    "batch_nk.to_csv(batch_path+'summarized_all_combos_nonkinetic.csv')"
   ]
  },
  {
   "cell_type": "code",
   "execution_count": null,
   "metadata": {
    "ExecuteTime": {
     "end_time": "2023-04-19T13:21:27.689041Z",
     "start_time": "2023-04-19T13:21:27.619549Z"
    },
    "hidden": true,
    "scrolled": true
   },
   "outputs": [],
   "source": [
    "batch_kinetic"
   ]
  },
  {
   "cell_type": "code",
   "execution_count": null,
   "metadata": {
    "ExecuteTime": {
     "end_time": "2023-04-19T13:21:29.330457Z",
     "start_time": "2023-04-19T13:21:29.301473Z"
    },
    "hidden": true,
    "scrolled": true
   },
   "outputs": [],
   "source": [
    "batch_nk"
   ]
  },
  {
   "cell_type": "markdown",
   "metadata": {
    "heading_collapsed": true
   },
   "source": [
    "## alpha-sort labels"
   ]
  },
  {
   "cell_type": "code",
   "execution_count": null,
   "metadata": {
    "ExecuteTime": {
     "end_time": "2023-04-19T13:24:10.551443Z",
     "start_time": "2023-04-19T13:24:09.962125Z"
    },
    "hidden": true
   },
   "outputs": [],
   "source": [
    "batch_kinetic = pd.read_csv(batch_path+'summarized_all_combos_kinetic.csv',index_col=0)\n",
    "batch_nk = pd.read_csv(batch_path+'summarized_all_combos_nonkinetic.csv',index_col=0)"
   ]
  },
  {
   "cell_type": "code",
   "execution_count": null,
   "metadata": {
    "ExecuteTime": {
     "end_time": "2023-04-19T13:25:32.258056Z",
     "start_time": "2023-04-19T13:25:32.198864Z"
    },
    "hidden": true
   },
   "outputs": [],
   "source": [
    "def alpha_sort_labels(df):\n",
    "    ''' Alpha-sort Combo_simple, coculture, and all the mono columns. '''\n",
    "    \n",
    "    original_simple = df.Combo_simple\n",
    "    new_simple, new_co = [], []\n",
    "    \n",
    "    new_mono1, new_mono2, new_mono1s, new_mono2s = [], [], [], []\n",
    "    new_mono1_RFU, new_mono2_RFU, new_mono1_err, new_mono2_err = [], [], [], []\n",
    "    new_mono1_AUC, new_mono2_AUC, new_mono1_adj, new_mono2_adj = [], [], [], []\n",
    "    new_mono1_AUC_adj, new_mono2_AUC_adj = [], []\n",
    "    new_mono1_od, new_mono2_od = [], []\n",
    "    \n",
    "    for n,i in enumerate(df.Combo_simple):\n",
    "        switch = 0\n",
    "        \n",
    "        isolates_ = [i.split('_')[0], i.split('_')[1]]\n",
    "        isolates_.sort()\n",
    "        new = '_'.join(isolates_)\n",
    "        \n",
    "        ### see if the other column values have to be switched too ###\n",
    "        if new == i:\n",
    "            new_co.append(df.coculture[n])\n",
    "            new_mono1.append(df.mono1[n])\n",
    "            new_mono2.append(df.mono2[n])\n",
    "            new_mono1s.append(df.mono1_s[n])\n",
    "            new_mono2s.append(df.mono2_s[n])\n",
    "            new_mono1_RFU.append(df.mono1_RFU[n])\n",
    "            new_mono2_RFU.append(df.mono2_RFU[n])\n",
    "            new_mono1_err.append(df.mono1_err[n])\n",
    "            new_mono2_err.append(df.mono2_err[n])\n",
    "            new_mono1_AUC.append(df.mono1_AUC[n])\n",
    "            new_mono2_AUC.append(df.mono2_AUC[n])\n",
    "            new_mono1_adj.append(df.mono1_adj[n])\n",
    "            new_mono2_adj.append(df.mono2_adj[n])\n",
    "            new_mono1_AUC_adj.append(df.mono1_AUC_adj[n])\n",
    "            new_mono2_AUC_adj.append(df.mono2_AUC_adj[n])\n",
    "            new_mono1_od.append(df.mono1_inoculum[n])\n",
    "            new_mono2_od.append(df.mono2_inoculum[n])\n",
    "        \n",
    "        else:     \n",
    "                \n",
    "            new_co.append('/'.join(['co',df.mono2[n],df.mono1[n]]))\n",
    "            \n",
    "            new_mono1.append(df.mono2[n])\n",
    "            new_mono2.append(df.mono1[n])\n",
    "            new_mono1s.append(df.mono2_s[n])\n",
    "            new_mono2s.append(df.mono1_s[n])\n",
    "            new_mono1_RFU.append(df.mono2_RFU[n])\n",
    "            new_mono2_RFU.append(df.mono1_RFU[n])\n",
    "            new_mono1_err.append(df.mono2_err[n])\n",
    "            new_mono2_err.append(df.mono1_err[n])\n",
    "            new_mono1_AUC.append(df.mono2_AUC[n])\n",
    "            new_mono2_AUC.append(df.mono1_AUC[n])\n",
    "            new_mono1_adj.append(df.mono2_adj[n])\n",
    "            new_mono2_adj.append(df.mono1_adj[n])\n",
    "            new_mono1_AUC_adj.append(df.mono2_AUC_adj[n])\n",
    "            new_mono2_AUC_adj.append(df.mono1_AUC_adj[n])\n",
    "            new_mono1_od.append(df.mono2_inoculum[n])\n",
    "            new_mono2_od.append(df.mono1_inoculum[n])\n",
    "            \n",
    "    df.coculture = new_co\n",
    "    df.mono1 = new_mono1\n",
    "    df.mono2 = new_mono2\n",
    "    df.mono1_s = new_mono1s\n",
    "    df.mono2_s = new_mono2s\n",
    "    df.mono1_RFU = new_mono1_RFU\n",
    "    df.mono2_RFU = new_mono2_RFU\n",
    "    df.mono1_err = new_mono1_err\n",
    "    df.mono2_err = new_mono2_err\n",
    "    df.mono1_AUC = new_mono1_AUC\n",
    "    df.mono2_AUC = new_mono2_AUC\n",
    "    df.mono1_adj = new_mono1_adj\n",
    "    df.mono2_adj = new_mono2_adj\n",
    "    df.mono1_AUC_adj = new_mono1_AUC_adj\n",
    "    df.mono2_AUC_adj = new_mono2_AUC_adj\n",
    "    df.mono1_inoculum = new_mono1_od\n",
    "    df.mono2_inoculum = new_mono2_od\n",
    "    \n",
    "    df['original_simple'] = original_simple\n",
    "    df['Combo_simple'] = new_simple\n",
    "    df.insert(1, 'Combo_simple', df.pop('Combo_simple'))\n",
    "            \n",
    "    return df"
   ]
  },
  {
   "cell_type": "code",
   "execution_count": null,
   "metadata": {
    "ExecuteTime": {
     "end_time": "2023-04-19T13:26:13.638810Z",
     "start_time": "2023-04-19T13:25:46.322976Z"
    },
    "hidden": true
   },
   "outputs": [],
   "source": [
    "batch_kinetic_sorted = alpha_sort_labels(batch_kinetic)"
   ]
  },
  {
   "cell_type": "code",
   "execution_count": null,
   "metadata": {
    "ExecuteTime": {
     "end_time": "2023-04-19T13:26:21.400145Z",
     "start_time": "2023-04-19T13:26:20.848221Z"
    },
    "hidden": true
   },
   "outputs": [],
   "source": [
    "batch_nk_sorted = alpha_sort_labels(batch_nk)"
   ]
  },
  {
   "cell_type": "code",
   "execution_count": null,
   "metadata": {
    "ExecuteTime": {
     "end_time": "2023-04-19T13:26:28.418916Z",
     "start_time": "2023-04-19T13:26:28.370682Z"
    },
    "hidden": true
   },
   "outputs": [],
   "source": [
    "batch_nk_sorted"
   ]
  },
  {
   "cell_type": "code",
   "execution_count": null,
   "metadata": {
    "ExecuteTime": {
     "end_time": "2023-04-19T13:26:38.818589Z",
     "start_time": "2023-04-19T13:26:34.580490Z"
    },
    "hidden": true
   },
   "outputs": [],
   "source": [
    "batch_kinetic_sorted.to_csv(batch_path+'summarized_all_combos_kinetic_alpha.csv')\n",
    "batch_nk_sorted.to_csv(batch_path+'summarized_all_combos_nonkinetic_alpha.csv')"
   ]
  },
  {
   "cell_type": "markdown",
   "metadata": {
    "heading_collapsed": true
   },
   "source": [
    "## add unique culture ID to pull between datasets"
   ]
  },
  {
   "cell_type": "code",
   "execution_count": null,
   "metadata": {
    "ExecuteTime": {
     "end_time": "2023-04-19T13:26:46.855610Z",
     "start_time": "2023-04-19T13:26:46.116396Z"
    },
    "hidden": true
   },
   "outputs": [],
   "source": [
    "batch_kinetic_sorted = pd.read_csv(batch_path+'summarized_all_combos_kinetic_alpha.csv',index_col=0)\n",
    "batch_nk_sorted = pd.read_csv(batch_path+'summarized_all_combos_nonkinetic_alpha.csv',index_col=0)"
   ]
  },
  {
   "cell_type": "code",
   "execution_count": null,
   "metadata": {
    "ExecuteTime": {
     "end_time": "2023-04-19T13:26:52.179426Z",
     "start_time": "2023-04-19T13:26:52.171691Z"
    },
    "hidden": true
   },
   "outputs": [],
   "source": [
    "def add_cultureID(df):\n",
    "    sep = ['_']*df.shape[0]\n",
    "    df['Culture_ID'] = df.Plate_ID+sep+df.coculture\n",
    "    return df"
   ]
  },
  {
   "cell_type": "code",
   "execution_count": null,
   "metadata": {
    "ExecuteTime": {
     "end_time": "2023-04-19T13:26:57.673499Z",
     "start_time": "2023-04-19T13:26:57.567905Z"
    },
    "hidden": true
   },
   "outputs": [],
   "source": [
    "batch_nk_ = add_cultureID(batch_nk_sorted)\n",
    "batch_kinetic_ = add_cultureID(batch_kinetic_sorted)"
   ]
  },
  {
   "cell_type": "code",
   "execution_count": null,
   "metadata": {
    "ExecuteTime": {
     "end_time": "2023-04-19T13:27:05.227852Z",
     "start_time": "2023-04-19T13:27:05.198787Z"
    },
    "hidden": true
   },
   "outputs": [],
   "source": [
    "batch_nk_"
   ]
  },
  {
   "cell_type": "code",
   "execution_count": null,
   "metadata": {
    "ExecuteTime": {
     "end_time": "2023-04-19T13:27:16.311769Z",
     "start_time": "2023-04-19T13:27:12.200530Z"
    },
    "hidden": true
   },
   "outputs": [],
   "source": [
    "# replace/update alpha csv\n",
    "batch_kinetic_.to_csv(batch_path+'summarized_all_combos_kinetic_alpha.csv')\n",
    "batch_nk_.to_csv(batch_path+'summarized_all_combos_nonkinetic_alpha.csv')"
   ]
  },
  {
   "cell_type": "markdown",
   "metadata": {
    "heading_collapsed": true
   },
   "source": [
    "## separate null (mono/mono) & polymicrobial combos"
   ]
  },
  {
   "cell_type": "code",
   "execution_count": null,
   "metadata": {
    "ExecuteTime": {
     "end_time": "2023-04-19T14:45:10.071505Z",
     "start_time": "2023-04-19T14:45:09.270390Z"
    },
    "hidden": true
   },
   "outputs": [],
   "source": [
    "batch_kinetic = pd.read_csv(batch_path+'summarized_all_combos_kinetic_alpha.csv', index_col=0)"
   ]
  },
  {
   "cell_type": "code",
   "execution_count": null,
   "metadata": {
    "ExecuteTime": {
     "end_time": "2023-04-19T14:45:27.422669Z",
     "start_time": "2023-04-19T14:45:27.398377Z"
    },
    "hidden": true
   },
   "outputs": [],
   "source": [
    "null_kinetic = batch_kinetic[batch_kinetic.mono1_s == batch_kinetic.mono2_s].reset_index(drop=True)\n",
    "null_nk = null_kinetic[null_kinetic.tp == 0].reset_index(drop=True)"
   ]
  },
  {
   "cell_type": "code",
   "execution_count": null,
   "metadata": {
    "ExecuteTime": {
     "end_time": "2023-04-19T14:45:30.380459Z",
     "start_time": "2023-04-19T14:45:30.343259Z"
    },
    "hidden": true
   },
   "outputs": [],
   "source": [
    "null_nk"
   ]
  },
  {
   "cell_type": "code",
   "execution_count": null,
   "metadata": {
    "ExecuteTime": {
     "end_time": "2023-04-19T14:45:33.899554Z",
     "start_time": "2023-04-19T14:45:33.253320Z"
    },
    "hidden": true
   },
   "outputs": [],
   "source": [
    "null_nk.to_csv(batch_path+'summarized_null_nonkinetic.csv')\n",
    "null_kinetic.to_csv(batch_path+'summarized_null_kinetic.csv')"
   ]
  },
  {
   "cell_type": "code",
   "execution_count": null,
   "metadata": {
    "ExecuteTime": {
     "end_time": "2023-04-19T14:45:36.681141Z",
     "start_time": "2023-04-19T14:45:36.675938Z"
    },
    "hidden": true
   },
   "outputs": [],
   "source": [
    "# number of null combos\n",
    "len(np.unique(null_nk.Combo_simple))"
   ]
  },
  {
   "cell_type": "code",
   "execution_count": null,
   "metadata": {
    "ExecuteTime": {
     "end_time": "2023-04-19T14:45:43.227063Z",
     "start_time": "2023-04-19T14:45:39.523006Z"
    },
    "hidden": true
   },
   "outputs": [],
   "source": [
    "poly_kinetic = batch_kinetic[batch_kinetic.mono1_s != batch_kinetic.mono2_s]\n",
    "poly_nk = poly_kinetic[poly_kinetic.tp == 0]\n",
    "\n",
    "poly_nk.to_csv(batch_path+'summarized_poly_nonkinetic.csv')\n",
    "poly_kinetic.to_csv(batch_path+'summarized_poly_kinetic.csv')"
   ]
  },
  {
   "cell_type": "code",
   "execution_count": null,
   "metadata": {
    "ExecuteTime": {
     "end_time": "2023-04-19T14:45:56.521165Z",
     "start_time": "2023-04-19T14:45:56.489521Z"
    },
    "hidden": true,
    "scrolled": true
   },
   "outputs": [],
   "source": [
    "poly_nk"
   ]
  },
  {
   "cell_type": "markdown",
   "metadata": {},
   "source": [
    "# Significance \n",
    "- null population = mono/mono \"cocultures\" as opposed to\n",
    "- exp population = polymicrobial cocultures"
   ]
  },
  {
   "cell_type": "markdown",
   "metadata": {},
   "source": [
    "## right-tailed test for p-values\n",
    "- bootstrap from the null scores (but just dAUC scores not standardized dAUC/SE as there is not SE)\n",
    "    - where dAUC scores = error-adjusted dAUC scores* (adjustment derived @ RFU level)\n",
    "    - originally, bs from all the droplet reps (co and mono) to calc new dAUC scores\n",
    "    - but there are only 4 and that is excessive for plate validation lol\n",
    "    - so just bs null 10,000 and right-tailed test +C=1\n",
    "- FDR-correct"
   ]
  },
  {
   "cell_type": "code",
   "execution_count": null,
   "metadata": {
    "ExecuteTime": {
     "end_time": "2023-04-19T14:52:00.410734Z",
     "start_time": "2023-04-19T14:52:00.372877Z"
    }
   },
   "outputs": [],
   "source": [
    "poly_nk = pd.read_csv(batch_path+'summarized_poly_nonkinetic.csv', index_col=0)\n",
    "null_nk = pd.read_csv(batch_path+'summarized_null_nonkinetic.csv', index_col=0)"
   ]
  },
  {
   "cell_type": "code",
   "execution_count": null,
   "metadata": {
    "ExecuteTime": {
     "end_time": "2023-04-19T14:52:06.572027Z",
     "start_time": "2023-04-19T14:52:03.669275Z"
    }
   },
   "outputs": [],
   "source": [
    "null_bs = bsz.boot_array(null_nk.dAUC_score_adj, bs_size=10000)"
   ]
  },
  {
   "cell_type": "code",
   "execution_count": null,
   "metadata": {
    "ExecuteTime": {
     "end_time": "2023-04-19T14:52:24.412173Z",
     "start_time": "2023-04-19T14:52:24.191752Z"
    }
   },
   "outputs": [],
   "source": [
    "null_bs_all = np.concatenate(null_bs.values)"
   ]
  },
  {
   "cell_type": "code",
   "execution_count": null,
   "metadata": {
    "ExecuteTime": {
     "end_time": "2023-04-19T14:52:42.109935Z",
     "start_time": "2023-04-19T14:52:42.105941Z"
    }
   },
   "outputs": [],
   "source": [
    "null_bs_all.shape"
   ]
  },
  {
   "cell_type": "code",
   "execution_count": null,
   "metadata": {
    "ExecuteTime": {
     "end_time": "2023-04-19T14:53:01.562390Z",
     "start_time": "2023-04-19T14:53:01.556577Z"
    }
   },
   "outputs": [],
   "source": [
    "def calc_pval_bs(null_array, score, C=1):\n",
    "    ''' Right-tailed test, constant to prevent zero. '''\n",
    "    null = pd.DataFrame(null_array)\n",
    "    return (null[null[0] >= score].shape[0] + C)/null.shape[0]\n",
    "\n",
    "def get_all_pvals_bs(df, null_array, score_col='dAUC_score_adj'):\n",
    "    '''\n",
    "    Returns a df with p-values from t-distribution of null,\n",
    "    FDR-corrected p-values and neg/neg_log10 transformed p-values.\n",
    "    '''\n",
    "    df['pval'] = [calc_pval_bs(null_array, t) for t in df[score_col]]\n",
    "    df['pval_fdr'] = multipletests(df.pval, method='fdr_bh')[1]\n",
    "    df['neg_pval_fdr'] = [-p for p in df. pval_fdr]\n",
    "    df['neglog_pval'] = [-np.log(p) for p in df.pval_fdr]\n",
    "    \n",
    "    return df"
   ]
  },
  {
   "cell_type": "code",
   "execution_count": null,
   "metadata": {
    "ExecuteTime": {
     "end_time": "2023-04-19T14:53:52.738072Z",
     "start_time": "2023-04-19T14:53:19.485672Z"
    }
   },
   "outputs": [],
   "source": [
    "bs_sig = get_all_pvals_bs(poly_nk, null_bs_all)"
   ]
  },
  {
   "cell_type": "code",
   "execution_count": null,
   "metadata": {
    "ExecuteTime": {
     "end_time": "2023-04-19T14:54:10.261004Z",
     "start_time": "2023-04-19T14:54:10.228177Z"
    },
    "scrolled": true
   },
   "outputs": [],
   "source": [
    "bs_sig"
   ]
  },
  {
   "cell_type": "code",
   "execution_count": null,
   "metadata": {
    "ExecuteTime": {
     "end_time": "2023-04-19T14:54:27.168634Z",
     "start_time": "2023-04-19T14:54:27.064026Z"
    }
   },
   "outputs": [],
   "source": [
    "bs_sig.to_csv(batch_path+'summarized_poly_nonkinetic_pvals.csv')"
   ]
  },
  {
   "cell_type": "markdown",
   "metadata": {},
   "source": [
    "# Threshold Calling\n",
    "- by pval and adjusted dAUC_score"
   ]
  },
  {
   "cell_type": "code",
   "execution_count": null,
   "metadata": {
    "ExecuteTime": {
     "end_time": "2023-04-19T14:55:34.722448Z",
     "start_time": "2023-04-19T14:55:34.010829Z"
    }
   },
   "outputs": [],
   "source": [
    "batch_kinetic = pd.read_csv(batch_path+'summarized_all_combos_kinetic_alpha.csv', index_col=0)\n",
    "sig_nk = pd.read_csv(batch_path+'summarized_poly_nonkinetic_pvals.csv', index_col=0)"
   ]
  },
  {
   "cell_type": "code",
   "execution_count": null,
   "metadata": {
    "ExecuteTime": {
     "end_time": "2023-04-19T14:55:55.032579Z",
     "start_time": "2023-04-19T14:55:54.990650Z"
    },
    "scrolled": true
   },
   "outputs": [],
   "source": [
    "sig_nk"
   ]
  },
  {
   "cell_type": "markdown",
   "metadata": {},
   "source": [
    "## cutoffs & export .csv's of final hits"
   ]
  },
  {
   "cell_type": "code",
   "execution_count": null,
   "metadata": {
    "ExecuteTime": {
     "end_time": "2023-04-19T14:56:24.452560Z",
     "start_time": "2023-04-19T14:56:24.445657Z"
    }
   },
   "outputs": [],
   "source": [
    "def apply_hit_cutoff(df, dAUC_cut, pval_cut, \n",
    "                     dAUC_col = 'dAUC_score_adj', \n",
    "                     pval_col= 'pval_fdr'):\n",
    "    \n",
    "    return df[(df[dAUC_col] >= dAUC_cut) & (df[pval_col] <= pval_cut)]"
   ]
  },
  {
   "cell_type": "code",
   "execution_count": null,
   "metadata": {
    "ExecuteTime": {
     "end_time": "2023-04-19T14:56:44.857391Z",
     "start_time": "2023-04-19T14:56:44.845948Z"
    }
   },
   "outputs": [],
   "source": [
    "pass_nk = apply_hit_cutoff(sig_nk, dAUC_cut=0.1, pval_cut=0.05)"
   ]
  },
  {
   "cell_type": "code",
   "execution_count": null,
   "metadata": {
    "ExecuteTime": {
     "end_time": "2023-04-19T14:57:25.550435Z",
     "start_time": "2023-04-19T14:57:25.541024Z"
    }
   },
   "outputs": [],
   "source": [
    "# number of hits\n",
    "len(np.unique(pass_nk.Combo_simple))"
   ]
  },
  {
   "cell_type": "code",
   "execution_count": null,
   "metadata": {
    "ExecuteTime": {
     "end_time": "2023-04-19T14:57:48.664330Z",
     "start_time": "2023-04-19T14:57:48.624150Z"
    }
   },
   "outputs": [],
   "source": [
    "pass_nk.to_csv(batch_path+'summarized_threshold_passed_nonkinetic.csv')"
   ]
  },
  {
   "cell_type": "code",
   "execution_count": null,
   "metadata": {
    "ExecuteTime": {
     "end_time": "2023-04-19T14:58:13.983887Z",
     "start_time": "2023-04-19T14:58:13.948976Z"
    }
   },
   "outputs": [],
   "source": [
    "# labels to then pull from kinetic data\n",
    "pass_labels = pass_nk[['Combo_simple', 'Plate_ID', 'Culture_ID', 'dAUC_score', 'dAUC_score_adj', \n",
    "                       'mono1', 'mono2', 'mono1_s', 'mono2_s', 'mono1_inoculum', 'mono2_inoculum']]\n",
    "pass_labels.to_csv(batch_path+'summarized_threshold_passed_labels.csv')"
   ]
  },
  {
   "cell_type": "code",
   "execution_count": null,
   "metadata": {
    "ExecuteTime": {
     "end_time": "2023-04-19T14:58:37.167699Z",
     "start_time": "2023-04-19T14:58:37.152284Z"
    }
   },
   "outputs": [],
   "source": [
    "def pull_from_kinetic(labels_df, source_df, save_dir=batch_path, save_desc=''):\n",
    "    '''\n",
    "    Return a .csv with the full summary & calculations from kinetic dataset using given labels.\n",
    "    \n",
    "    Inputs:\n",
    "        labels_df/source_df: dataframes after labels have been concatenated \n",
    "    '''\n",
    "    sub_df = source_df[source_df.Culture_ID.isin(labels_df.Culture_ID)].reset_index(drop=True)\n",
    "    sub_df.to_csv(save_dir+save_desc+'.csv')\n",
    "    \n",
    "    return sub_df "
   ]
  },
  {
   "cell_type": "code",
   "execution_count": null,
   "metadata": {
    "ExecuteTime": {
     "end_time": "2023-04-19T14:59:01.929610Z",
     "start_time": "2023-04-19T14:59:00.500801Z"
    }
   },
   "outputs": [],
   "source": [
    "pass_kinetic = pull_from_kinetic(pass_labels, batch_kinetic, 'summarized_threshold_passed_nonkinetic')"
   ]
  },
  {
   "cell_type": "code",
   "execution_count": null,
   "metadata": {
    "ExecuteTime": {
     "end_time": "2023-04-19T14:59:24.086567Z",
     "start_time": "2023-04-19T14:59:23.888725Z"
    },
    "scrolled": true
   },
   "outputs": [],
   "source": [
    "pass_kinetic"
   ]
  },
  {
   "cell_type": "markdown",
   "metadata": {},
   "source": [
    "## best scores for each unique coculture"
   ]
  },
  {
   "cell_type": "code",
   "execution_count": null,
   "metadata": {
    "ExecuteTime": {
     "end_time": "2023-04-19T14:59:51.811647Z",
     "start_time": "2023-04-19T14:59:51.770460Z"
    }
   },
   "outputs": [],
   "source": [
    "pass_nk = pd.read_csv(batch_path+'summarized_threshold_passed_nonkinetic.csv',index_col=0)"
   ]
  },
  {
   "cell_type": "code",
   "execution_count": null,
   "metadata": {
    "ExecuteTime": {
     "end_time": "2023-04-19T15:00:17.468070Z",
     "start_time": "2023-04-19T15:00:17.442644Z"
    }
   },
   "outputs": [],
   "source": [
    "def call_best_hit(df, score_col='dAUC_score_adj'):\n",
    "    ''' Saves highest scores and rankings between ratios for all cocultures. '''\n",
    "    \n",
    "    all_subdfs = []\n",
    "\n",
    "    for n,i in enumerate(df.Combo_simple.unique()):\n",
    "        subdf = df[df.Combo_simple.str.contains(i)].reset_index(drop=True)\n",
    "        \n",
    "        # highest score\n",
    "        max_score = subdf[score_col].max()\n",
    "        max_index = subdf[score_col].idxmax(axis=0)\n",
    "        max_co = subdf.coculture[max_index]\n",
    "        max_ratio = '_'.join([max_co.split('/')[1].split('_')[1], max_co.split('/')[2].split('_')[1]])\n",
    "        \n",
    "        # rank ratios' scores\n",
    "        sorted_df = subdf.sort_values(score_col, ascending=False)\n",
    "        \n",
    "        full = pd.DataFrame({'Combo_simple': [i],\n",
    "                             'mono1_simple': [i.split('_')[0]], \n",
    "                             'mono2_simple': [i.split('_')[1]],\n",
    "                             'max_score': [max_score], \n",
    "                             'max_ratio': [max_ratio],\n",
    "                             'mono1_inoculum': [subdf.mono1_inoculum[max_index]], \n",
    "                             'mono2_inoculum': [subdf.mono2_inoculum[max_index]],\n",
    "                             'max_ID': [subdf.Culture_ID[max_index]], \n",
    "                             'max_plate': [subdf.Plate_ID[max_index]], \n",
    "                             'max_co': [max_co],\n",
    "                             'max_peakfold': [subdf.peak_fold_adj[max_index]], \n",
    "                             'max_peakfold_tp': [subdf.peak_fold_tp_adj[max_index]],\n",
    "                             'ratio_ranking': [list(sorted_df.coculture)], \n",
    "                             'score_ranking': [list(sorted_df.dAUC_score_adj)]})\n",
    "\n",
    "        all_subdfs.append(full)\n",
    "    \n",
    "    return pd.concat(all_subdfs).reset_index(drop=True)"
   ]
  },
  {
   "cell_type": "code",
   "execution_count": null,
   "metadata": {
    "ExecuteTime": {
     "end_time": "2023-04-19T15:00:41.010810Z",
     "start_time": "2023-04-19T15:00:40.187160Z"
    },
    "scrolled": true
   },
   "outputs": [],
   "source": [
    "best_scores = call_best_hit(pass_nk)\n",
    "best_scores"
   ]
  },
  {
   "cell_type": "code",
   "execution_count": null,
   "metadata": {
    "ExecuteTime": {
     "end_time": "2023-04-19T15:01:07.324438Z",
     "start_time": "2023-04-19T15:01:07.304115Z"
    }
   },
   "outputs": [],
   "source": [
    "best_scores.to_csv(batch_path+'ranked_scores_per_coculture.csv')\n",
    "best_scores.to_csv(batch_path+'ranked_scores_per_coculture.pkl')"
   ]
  },
  {
   "cell_type": "markdown",
   "metadata": {},
   "source": [
    "# Plot Final Hits"
   ]
  },
  {
   "cell_type": "code",
   "execution_count": null,
   "metadata": {
    "ExecuteTime": {
     "end_time": "2023-04-20T17:10:17.951890Z",
     "start_time": "2023-04-20T17:10:17.131648Z"
    }
   },
   "outputs": [],
   "source": [
    "batch_kinetic = pd.read_csv(batch_path+'summarized_all_combos_kinetic_alpha.csv', index_col=0)\n",
    "pass_nk = pd.read_csv(batch_path+'summarized_threshold_passed_nonkinetic.csv',index_col=0)"
   ]
  },
  {
   "cell_type": "code",
   "execution_count": null,
   "metadata": {
    "ExecuteTime": {
     "end_time": "2023-04-20T17:10:18.077910Z",
     "start_time": "2023-04-20T17:10:18.060564Z"
    }
   },
   "outputs": [],
   "source": [
    "def plot_all_cocurves(labels_df, source_df,\n",
    "                      plots_per_page=45, plots_y=9, plots_x=5, fig_w=20, fig_h=25, \n",
    "                      rfu_lim_high=50000, rfu_lim_low=10000, fold_lim=20,\n",
    "                      save_dir=batch_path, filename='cocultures_coplots', \n",
    "                      split_by='_', multi=False, position1=1, position2=3,\n",
    "                      monosum_col = 'mono_sum_adj'):\n",
    "    '''\n",
    "    Separate onto many pages (as larger screen will have more \n",
    "    hits that expand beyond what fits on a page reasonably).\n",
    "    \n",
    "    On a single 20x25 page, fit 5x9 plots reasonably so divide by 45.\n",
    "    \n",
    "    Mono sum line has been error-adjusted (each mono+error).\n",
    "    '''\n",
    "    # separate all hits across pages\n",
    "    starting_indices = list(range(0, labels_df.shape[0], plots_per_page))\n",
    "    \n",
    "    # save all to master PDF\n",
    "    with PdfPages(save_dir+filename+'.pdf') as pdf:\n",
    "\n",
    "        # plot each coculture\n",
    "        for ind in starting_indices:\n",
    "            # RFUs per page\n",
    "            fig = plt.figure(figsize=(fig_w, fig_h))\n",
    "            fig.subplots_adjust(hspace=0.4, wspace=0.4)\n",
    "            \n",
    "            fig2 = plt.figure(figsize=(fig_w, fig_h))\n",
    "            fig2.subplots_adjust(hspace=0.4, wspace=0.4)\n",
    "            \n",
    "            fig3 = plt.figure(figsize=(fig_w, fig_h))\n",
    "            fig3.subplots_adjust(hspace=0.4, wspace=0.4)\n",
    "\n",
    "            for i, n in enumerate(labels_df.iloc[ind:ind+plots_per_page].index):\n",
    "                # pull all data for single coculture\n",
    "                sub_df = source_df[source_df.Culture_ID == labels_df.Culture_ID[n]]\n",
    "                time = sub_df.tp\n",
    "                \n",
    "                # coplot RFUs - high lim\n",
    "                ax = fig.add_subplot(plots_y, plots_x, i+1)\n",
    "                ax.errorbar(time, y=sub_df.co_RFU, yerr=sub_df.co_err, alpha=0.5)\n",
    "                ax.errorbar(time, y=sub_df[monosum_col], yerr=sub_df.mono_sum_err, alpha=0.5)\n",
    "                ax.errorbar(time, y=sub_df.mono1_RFU, yerr=sub_df.mono1_err, alpha=0.5)\n",
    "                ax.errorbar(time, y=sub_df.mono2_RFU, yerr=sub_df.mono2_err, alpha=0.5)\n",
    "                ax.set_ylim(0, rfu_lim_high)\n",
    "                ax.set_title(labels_df.coculture[n])\n",
    "                \n",
    "                # coplot RFUs - low lim\n",
    "                ax2 = fig2.add_subplot(plots_y, plots_x, i+1)\n",
    "                ax2.errorbar(time, y=sub_df.co_RFU, yerr=sub_df.co_err, alpha=0.5)\n",
    "                ax2.errorbar(time, y=sub_df[monosum_col], yerr=sub_df.mono_sum_err, alpha=0.5)\n",
    "                ax2.errorbar(time, y=sub_df.mono1_RFU, yerr=sub_df.mono1_err, alpha=0.5)\n",
    "                ax2.errorbar(time, y=sub_df.mono2_RFU, yerr=sub_df.mono2_err, alpha=0.5)\n",
    "                ax2.set_ylim(0, rfu_lim_low)\n",
    "                ax2.set_title(labels_df.coculture[n])\n",
    "                \n",
    "                # respective fold-changes on next page\n",
    "                ax3 = fig3.add_subplot(plots_y, plots_x, i+1)\n",
    "                ax3.plot(time, sub_df.fold_change, alpha=0.5)\n",
    "                ax3.plot(time, sub_df.fold_change_adj, alpha=0.5)\n",
    "                ax3.set_ylim(0, fold_lim)\n",
    "                ax3.set_title(labels_df.coculture[n])\n",
    "\n",
    "            fig.legend(['coculture', 'mono sum', 'left', 'right'], loc='right')\n",
    "            fig2.legend(['coculture', 'mono sum', 'left', 'right'], loc='right')\n",
    "            fig3.legend(['fold-change', 'error-adjusted fold-change'], loc='right')\n",
    "            \n",
    "            fig.text(0.5, 0.08, 'time (h)', ha='center', fontsize=20)\n",
    "            fig.text(0.08, 0.5,'RFU', va='center', rotation='vertical', fontsize=20)\n",
    "            fig2.text(0.5, 0.08, 'time (h)', ha='center', fontsize=20)\n",
    "            fig2.text(0.08, 0.5,'RFU', va='center', rotation='vertical', fontsize=20)\n",
    "            fig3.text(0.5, 0.08, 'time (h)', ha='center', fontsize=20)\n",
    "            fig3.text(0.08, 0.5,'fold-change (experimental/expected)', va='center', rotation='vertical', fontsize=20)\n",
    "\n",
    "            pdf.savefig(fig)\n",
    "            pdf.savefig(fig2)\n",
    "            pdf.savefig(fig3)\n",
    "            \n",
    "        plt.close()\n",
    "    \n",
    "    return"
   ]
  },
  {
   "cell_type": "code",
   "execution_count": null,
   "metadata": {
    "ExecuteTime": {
     "end_time": "2023-04-17T15:17:18.811886Z",
     "start_time": "2023-04-17T15:08:08.221878Z"
    },
    "scrolled": true
   },
   "outputs": [],
   "source": [
    "plot_all_cocurves(labels_df, batch_kinetic, rfu_lim_high=5000, rfu_lim_low=2000)"
   ]
  },
  {
   "cell_type": "code",
   "execution_count": null,
   "metadata": {
    "ExecuteTime": {
     "end_time": "2023-04-20T17:19:40.748278Z",
     "start_time": "2023-04-20T17:10:55.813751Z"
    }
   },
   "outputs": [],
   "source": [
    "plot_all_cocurves(labels_df, batch_kinetic, rfu_lim_high=5000, rfu_lim_low=2000, fold_lim=5, filename='cocultures_coplots_foldlim5')"
   ]
  },
  {
   "cell_type": "code",
   "execution_count": null,
   "metadata": {},
   "outputs": [],
   "source": []
  }
 ],
 "metadata": {
  "kernelspec": {
   "display_name": "Python 3",
   "language": "python",
   "name": "python3"
  },
  "language_info": {
   "codemirror_mode": {
    "name": "ipython",
    "version": 3
   },
   "file_extension": ".py",
   "mimetype": "text/x-python",
   "name": "python",
   "nbconvert_exporter": "python",
   "pygments_lexer": "ipython3",
   "version": "3.7.4"
  },
  "toc": {
   "base_numbering": 1,
   "nav_menu": {},
   "number_sections": true,
   "sideBar": true,
   "skip_h1_title": false,
   "title_cell": "Table of Contents",
   "title_sidebar": "Contents",
   "toc_cell": false,
   "toc_position": {
    "height": "calc(100% - 180px)",
    "left": "10px",
    "top": "150px",
    "width": "324.188px"
   },
   "toc_section_display": true,
   "toc_window_display": true
  },
  "varInspector": {
   "cols": {
    "lenName": 16,
    "lenType": 16,
    "lenVar": 40
   },
   "kernels_config": {
    "python": {
     "delete_cmd_postfix": "",
     "delete_cmd_prefix": "del ",
     "library": "var_list.py",
     "varRefreshCmd": "print(var_dic_list())"
    },
    "r": {
     "delete_cmd_postfix": ") ",
     "delete_cmd_prefix": "rm(",
     "library": "var_list.r",
     "varRefreshCmd": "cat(var_dic_list()) "
    }
   },
   "types_to_exclude": [
    "module",
    "function",
    "builtin_function_or_method",
    "instance",
    "_Feature"
   ],
   "window_display": false
  }
 },
 "nbformat": 4,
 "nbformat_minor": 2
}
