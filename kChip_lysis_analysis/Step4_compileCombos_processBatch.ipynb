{
 "cells": [
  {
   "cell_type": "markdown",
   "metadata": {},
   "source": [
    "# Combinations Processing_Batch\n",
    "**Written**: 20220902\n",
    "\n",
    "Assumes all aggregated data is in 1 batch folder (./output)\n",
    "\n",
    "1. Compile individual chips' combos linked with a chip ID -- easier to parse\n",
    "2. Concatenate\n",
    "3. Batch call hits (next nb)"
   ]
  },
  {
   "cell_type": "markdown",
   "metadata": {},
   "source": [
    "# Inputs & Imports"
   ]
  },
  {
   "cell_type": "markdown",
   "metadata": {},
   "source": [
    "## configurable"
   ]
  },
  {
   "cell_type": "code",
   "execution_count": null,
   "metadata": {
    "ExecuteTime": {
     "end_time": "2022-09-02T14:51:56.147596Z",
     "start_time": "2022-09-02T14:51:56.143853Z"
    }
   },
   "outputs": [],
   "source": [
    "# YYYYMMDD_name_ prefices for aggregated data files (ea chip)\n",
    "file_ids = ['prefix1', 'prefix2']\n",
    "\n",
    "# ID in concatenated batch, keep in same order -- tranche info & screening groups\n",
    "chip_ids = ['ID1', 'ID2'] \n",
    "\n",
    "# batch_file_prefix_\n",
    "batch_id = 'batch_'\n",
    "\n",
    "# path to scripts\n",
    "script_reroute = '../path/'"
   ]
  },
  {
   "cell_type": "markdown",
   "metadata": {},
   "source": [
    "## standard"
   ]
  },
  {
   "cell_type": "code",
   "execution_count": null,
   "metadata": {
    "ExecuteTime": {
     "end_time": "2022-09-02T14:51:56.573770Z",
     "start_time": "2022-09-02T14:51:56.567328Z"
    }
   },
   "outputs": [],
   "source": [
    "import os\n",
    "core_base = './output/core/'\n",
    "cc_base = './output/coculture/'\n",
    "core_path = core_base+batch_id\n",
    "cc_path =  cc_base+batch_id\n",
    "\n",
    "os.makedirs('./output/', exist_ok=True)\n",
    "os.makedirs('./output/core/', exist_ok=True)\n",
    "os.makedirs('./output/coculture/', exist_ok=True)"
   ]
  },
  {
   "cell_type": "markdown",
   "metadata": {},
   "source": [
    "## packages & scripts"
   ]
  },
  {
   "cell_type": "code",
   "execution_count": null,
   "metadata": {
    "ExecuteTime": {
     "end_time": "2022-09-02T14:51:59.412936Z",
     "start_time": "2022-09-02T14:51:57.745093Z"
    }
   },
   "outputs": [],
   "source": [
    "import re\n",
    "import glob\n",
    "import numpy as np\n",
    "import pandas as pd\n",
    "import scipy\n",
    "import scipy.stats as stats\n",
    "from sklearn.metrics import auc\n",
    "from statsmodels.stats.multitest import multipletests\n",
    "import itertools\n",
    "\n",
    "import warnings\n",
    "warnings.filterwarnings('ignore')\n",
    "\n",
    "import seaborn as sns\n",
    "import matplotlib.pyplot as plt\n",
    "from matplotlib.backends.backend_pdf import PdfPages\n",
    "%matplotlib inline\n",
    "\n",
    "import sys\n",
    "sys.path.insert(1, script_reroute)\n",
    "import sytox_scripts.bootstrap_and_z as bsz\n",
    "import sytox_scripts.supplementary as helper\n",
    "import sytox_scripts.cocultures as cocultures"
   ]
  },
  {
   "cell_type": "markdown",
   "metadata": {},
   "source": [
    "# Process Chip Combos\n",
    "- assumes aggregated data already produced (GCP, scripted) and saved in same directory"
   ]
  },
  {
   "cell_type": "markdown",
   "metadata": {},
   "source": [
    "## import & compile"
   ]
  },
  {
   "cell_type": "code",
   "execution_count": null,
   "metadata": {
    "ExecuteTime": {
     "end_time": "2022-09-02T14:52:00.503063Z",
     "start_time": "2022-09-02T14:52:00.497708Z"
    }
   },
   "outputs": [],
   "source": [
    "def import_combo_summaries(save_desc='', save_dir=core_path):\n",
    "\n",
    "    subdf_mean = pd.read_csv(save_dir+'summarized_combos'+save_desc+'_mean.csv', index_col=0)\n",
    "    subdf_std = pd.read_csv(save_dir+'summarized_combos'+save_desc+'_std.csv', index_col=0)\n",
    "    subdf_med = pd.read_csv(save_dir+'summarized_combos'+save_desc+'_med.csv', index_col=0)\n",
    "    subdf_sem = pd.read_csv(save_dir+'summarized_combos'+save_desc+'_sem.csv', index_col=0)\n",
    "    subdf_auc = pd.read_csv(save_dir+'summarized_combos'+save_desc+'_bs_aucs.csv', index_col=0)\n",
    "    \n",
    "    return subdf_mean, subdf_std, subdf_med, subdf_sem, subdf_auc"
   ]
  },
  {
   "cell_type": "code",
   "execution_count": null,
   "metadata": {
    "ExecuteTime": {
     "end_time": "2022-09-02T14:52:00.989621Z",
     "start_time": "2022-09-02T14:52:00.984830Z"
    }
   },
   "outputs": [],
   "source": [
    "def compile_single_chip(file_id, chip_id, import_dir, save_dir):\n",
    "    ''' \n",
    "    Compiles & links monoculture data to coculture data for all combinations.\n",
    "    Saves kinetic & nonkinetic .csv's of formatted data, \n",
    "    as well a .csv for separated monoculture data.\n",
    "    Assumes median values used though imports all data summaries.\n",
    "    '''\n",
    "    # imports\n",
    "    co_mean, co_std, co_med, co_sem, co_auc = import_combo_summaries(save_dir=import_dir+file_id)\n",
    "    bug_label, media_label = cocultures.identify_mono_labels(co_med)\n",
    "    \n",
    "    # compile data & export\n",
    "    save_path = save_dir+chip_id+'_'\n",
    "    mono_df = cocultures.pull_monocultures(co_med, co_sem, save_path, media_label, bug_label)\n",
    "    co_df = cocultures.pull_cocultures(co_med, co_sem, mono_df, co_auc, chip_id, save_path, media_label)\n",
    "    \n",
    "    return"
   ]
  },
  {
   "cell_type": "code",
   "execution_count": null,
   "metadata": {
    "ExecuteTime": {
     "end_time": "2022-09-02T15:37:35.762700Z",
     "start_time": "2022-09-02T14:53:16.105497Z"
    }
   },
   "outputs": [],
   "source": [
    "for n,f in enumerate(file_ids):\n",
    "    compile_single_chip(f, chip_ids[n], core_base, cc_base)"
   ]
  },
  {
   "cell_type": "markdown",
   "metadata": {},
   "source": [
    "## concatenate"
   ]
  },
  {
   "cell_type": "code",
   "execution_count": null,
   "metadata": {
    "ExecuteTime": {
     "end_time": "2022-09-03T14:21:15.392557Z",
     "start_time": "2022-09-03T14:21:15.386458Z"
    }
   },
   "outputs": [],
   "source": [
    "def concatenate_files(suffix, import_dir=cc_base, save_dir=cc_path):\n",
    "    ''' Creates a single batch dataset with all chips.\n",
    "    '''\n",
    "    files = [file for file in glob.glob(import_dir+'*'+suffix+'.csv')]\n",
    "    dfs = []\n",
    "    \n",
    "    for f in files:\n",
    "        dfs.append(pd.read_csv(f, index_col=0))\n",
    "    \n",
    "    concat_df = pd.concat(dfs).reset_index()\n",
    "    concat_df.to_csv(save_dir+suffix+'.csv')\n",
    "    \n",
    "    return concat_df"
   ]
  },
  {
   "cell_type": "code",
   "execution_count": null,
   "metadata": {
    "ExecuteTime": {
     "end_time": "2022-09-03T14:21:17.604363Z",
     "start_time": "2022-09-03T14:21:16.247256Z"
    }
   },
   "outputs": [],
   "source": [
    "batch_nk = concatenate_files('summarized_cocultures_nonkinetic')"
   ]
  },
  {
   "cell_type": "code",
   "execution_count": null,
   "metadata": {
    "ExecuteTime": {
     "end_time": "2022-09-03T14:23:36.920453Z",
     "start_time": "2022-09-03T14:22:07.441255Z"
    }
   },
   "outputs": [],
   "source": [
    "batch_kinetic = concatenate_files('summarized_cocultures_kinetic')"
   ]
  },
  {
   "cell_type": "code",
   "execution_count": null,
   "metadata": {
    "ExecuteTime": {
     "end_time": "2022-09-03T14:23:45.422412Z",
     "start_time": "2022-09-03T14:23:45.273611Z"
    }
   },
   "outputs": [],
   "source": [
    "batch_nk"
   ]
  }
 ],
 "metadata": {
  "kernelspec": {
   "display_name": "Python 3",
   "language": "python",
   "name": "python3"
  },
  "language_info": {
   "codemirror_mode": {
    "name": "ipython",
    "version": 3
   },
   "file_extension": ".py",
   "mimetype": "text/x-python",
   "name": "python",
   "nbconvert_exporter": "python",
   "pygments_lexer": "ipython3",
   "version": "3.7.4"
  },
  "toc": {
   "base_numbering": 1,
   "nav_menu": {},
   "number_sections": true,
   "sideBar": true,
   "skip_h1_title": false,
   "title_cell": "Table of Contents",
   "title_sidebar": "Contents",
   "toc_cell": false,
   "toc_position": {},
   "toc_section_display": true,
   "toc_window_display": true
  },
  "varInspector": {
   "cols": {
    "lenName": 16,
    "lenType": 16,
    "lenVar": 40
   },
   "kernels_config": {
    "python": {
     "delete_cmd_postfix": "",
     "delete_cmd_prefix": "del ",
     "library": "var_list.py",
     "varRefreshCmd": "print(var_dic_list())"
    },
    "r": {
     "delete_cmd_postfix": ") ",
     "delete_cmd_prefix": "rm(",
     "library": "var_list.r",
     "varRefreshCmd": "cat(var_dic_list()) "
    }
   },
   "types_to_exclude": [
    "module",
    "function",
    "builtin_function_or_method",
    "instance",
    "_Feature"
   ],
   "window_display": false
  }
 },
 "nbformat": 4,
 "nbformat_minor": 2
}
