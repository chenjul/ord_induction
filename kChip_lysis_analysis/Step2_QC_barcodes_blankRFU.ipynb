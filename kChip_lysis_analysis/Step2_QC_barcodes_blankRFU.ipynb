{
 "cells": [
  {
   "cell_type": "markdown",
   "metadata": {},
   "source": [
    "# kChip QC Analysis_lysis\n",
    "**Written:** 20220501\\\n",
    "**Last Updated:** 20231230"
   ]
  },
  {
   "cell_type": "markdown",
   "metadata": {},
   "source": [
    "## Table of Content\n",
    "- **Image QC & Stats**\n",
    "    - uses d_area_trimmed\n",
    "    - cleans data: remove incomplete kinetic data, correct labels --> d_area_trimmed\n",
    "    - counts, chip efficiency\n",
    "    - combo distributions, missing combos\n",
    "    \n",
    "    \n",
    "- **Media Subtract**\n",
    "    - uses d_area_trimmed\n",
    "    - blanks all values given a media/media combo \n",
    "    - & produces an intermediate df --> trimmed_subdf\n",
    "    - correct all negative RFU values to 0 (floored)\n",
    "    - final is blanked_df\n",
    "    \n",
    "        \n",
    "- **Z' Analysis**\n",
    "    - positive: 12B09_high / 1F97_high\n",
    "\n",
    "\n",
    "**Output format:** \n",
    "\n",
    "path/date_chipID_fileDescriptor_unique(e.g. combo)_analysis(e.g. mean vs median, tp).file"
   ]
  },
  {
   "cell_type": "markdown",
   "metadata": {},
   "source": [
    "# Inputs (RUN FIRST)"
   ]
  },
  {
   "cell_type": "markdown",
   "metadata": {},
   "source": [
    "## configurable"
   ]
  },
  {
   "cell_type": "code",
   "execution_count": null,
   "metadata": {
    "ExecuteTime": {
     "end_time": "2022-09-01T22:19:10.823387Z",
     "start_time": "2022-09-01T22:19:10.819773Z"
    }
   },
   "outputs": [],
   "source": [
    "# YYYYMMDD_name_ as prefix for output \n",
    "chip_id = 'YYYYMMDD_chipName_' # file output\n",
    "chip_name = 'chipName' # for summary produced\n",
    "\n",
    "# path to data analysis scripts\n",
    "script_reroute = '../path/'\n",
    "\n",
    "# total imaging tp\n",
    "num_tp = 48\n",
    "\n",
    "# max microwells for design\n",
    "num_wells = 124000 # dis148_v7"
   ]
  },
  {
   "cell_type": "code",
   "execution_count": null,
   "metadata": {
    "ExecuteTime": {
     "end_time": "2022-09-01T22:19:11.598536Z",
     "start_time": "2022-09-01T22:19:11.593327Z"
    }
   },
   "outputs": [],
   "source": [
    "import os\n",
    "out_path = './output/image_analysis/'+chip_id\n",
    "qc_path = './output/qc/'+chip_id\n",
    "core_path =  './output/core/'+chip_id\n",
    "cc_path =  './output/coculture/'+chip_id\n",
    "z_path = './output/z_analysis/'+chip_id\n",
    "\n",
    "os.makedirs('./output/', exist_ok=True)\n",
    "os.makedirs('./output/qc/', exist_ok=True)\n",
    "os.makedirs('./output/core/', exist_ok=True)\n",
    "os.makedirs('./output/coculture/', exist_ok=True)\n",
    "os.makedirs('./output/z_analysis/', exist_ok=True)"
   ]
  },
  {
   "cell_type": "markdown",
   "metadata": {},
   "source": [
    "# Imports"
   ]
  },
  {
   "cell_type": "code",
   "execution_count": null,
   "metadata": {
    "ExecuteTime": {
     "end_time": "2023-12-30T16:58:17.442277Z",
     "start_time": "2023-12-30T16:58:17.437138Z"
    },
    "scrolled": true
   },
   "outputs": [],
   "source": [
    "import numpy as np\n",
    "import pandas as pd\n",
    "import scipy\n",
    "from sklearn.metrics import auc\n",
    "\n",
    "import warnings\n",
    "warnings.filterwarnings('ignore')\n",
    "\n",
    "import seaborn as sns\n",
    "import matplotlib.pyplot as plt\n",
    "%matplotlib inline\n",
    "\n",
    "import sys\n",
    "sys.path.insert(1, script_reroute)\n",
    "import sytox_scripts.bootstrap_and_z as bsz\n",
    "import sytox_scripts.supplementary as helper\n",
    "import sytox_scripts.cocultures as cocultures"
   ]
  },
  {
   "cell_type": "code",
   "execution_count": null,
   "metadata": {
    "ExecuteTime": {
     "end_time": "2022-09-01T22:19:15.626325Z",
     "start_time": "2022-09-01T22:19:15.607961Z"
    }
   },
   "outputs": [],
   "source": [
    "# plotting style\n",
    "plot_path = script_reroute+'sytox_scripts/plotting_parameters.py'\n",
    "%run $plot_path"
   ]
  },
  {
   "cell_type": "markdown",
   "metadata": {},
   "source": [
    "# Image QC & Stats\n",
    "- remove incomplete kinetic data (microwell not imaged at all tps)\n",
    "- correct mis-assigned barcodes \n",
    "- review kChip efficiency & counts post-image analysis"
   ]
  },
  {
   "cell_type": "markdown",
   "metadata": {},
   "source": [
    "## drop incomplete kinetic data"
   ]
  },
  {
   "cell_type": "code",
   "execution_count": null,
   "metadata": {
    "ExecuteTime": {
     "end_time": "2022-09-01T22:19:32.698277Z",
     "start_time": "2022-09-01T22:19:17.648373Z"
    }
   },
   "outputs": [],
   "source": [
    "# remove microwells with incomplete kinetic data too\n",
    "w_incomplete = pd.read_csv(out_path+'distance_and_area_filtered.csv',index_col=0)\n",
    "d_area_trimmed = pd.read_csv(out_path+'distance_and_area_filtered.csv',index_col=0).dropna().reset_index()"
   ]
  },
  {
   "cell_type": "code",
   "execution_count": null,
   "metadata": {
    "ExecuteTime": {
     "end_time": "2022-09-01T22:20:45.433718Z",
     "start_time": "2022-09-01T22:19:32.700749Z"
    }
   },
   "outputs": [],
   "source": [
    "w_incomplete.to_csv(out_path+'distance_and_area_filtered_original.csv')\n",
    "d_area_trimmed.to_csv(out_path+'distance_and_area_filtered_complete_kinetic.csv')"
   ]
  },
  {
   "cell_type": "code",
   "execution_count": null,
   "metadata": {
    "ExecuteTime": {
     "end_time": "2022-09-01T22:20:45.439375Z",
     "start_time": "2022-09-01T22:20:45.435797Z"
    }
   },
   "outputs": [],
   "source": [
    "print(w_incomplete.shape, d_area_trimmed.shape)"
   ]
  },
  {
   "cell_type": "markdown",
   "metadata": {},
   "source": [
    "## generate barcode correction map\n",
    "- manual corrections based on reference and assignments by image_analysis nb"
   ]
  },
  {
   "cell_type": "code",
   "execution_count": null,
   "metadata": {
    "ExecuteTime": {
     "end_time": "2023-12-30T16:58:34.247304Z",
     "start_time": "2023-12-30T16:58:34.244067Z"
    }
   },
   "outputs": [],
   "source": [
    "og = ['barcode1', 'barcode3'] \n",
    "temp = ['abc%d' %n for n in range(len(og))]\n",
    "corrected = ['barcode2', 'barcode4']"
   ]
  },
  {
   "cell_type": "code",
   "execution_count": null,
   "metadata": {
    "ExecuteTime": {
     "end_time": "2023-12-30T16:58:34.504526Z",
     "start_time": "2023-12-30T16:58:34.481179Z"
    }
   },
   "outputs": [],
   "source": [
    "map_df = pd.DataFrame({'original':og, 'temp':temp, 'corrected':corrected})\n",
    "map_df"
   ]
  },
  {
   "cell_type": "code",
   "execution_count": null,
   "metadata": {},
   "outputs": [],
   "source": [
    "map_df.to_csv('./barcode_map.csv')"
   ]
  },
  {
   "cell_type": "markdown",
   "metadata": {},
   "source": [
    "## correct barcodes"
   ]
  },
  {
   "cell_type": "code",
   "execution_count": null,
   "metadata": {
    "ExecuteTime": {
     "end_time": "2022-08-30T14:00:45.096575Z",
     "start_time": "2022-08-30T14:00:40.791859Z"
    }
   },
   "outputs": [],
   "source": [
    "d_area_trimmed = pd.read_csv(out_path+'distance_and_area_filtered_complete_kinetic.csv', index_col=0)\n",
    "label_map = pd.read_csv('./barcode_map.csv')"
   ]
  },
  {
   "cell_type": "code",
   "execution_count": null,
   "metadata": {
    "ExecuteTime": {
     "end_time": "2022-08-30T14:05:00.175827Z",
     "start_time": "2022-08-30T14:00:45.282248Z"
    }
   },
   "outputs": [],
   "source": [
    "helper.correct_labels(d_area_trimmed, label_map, save_dir=core_path)"
   ]
  },
  {
   "cell_type": "markdown",
   "metadata": {},
   "source": [
    "## microwell efficiency (technical replicates)"
   ]
  },
  {
   "cell_type": "code",
   "execution_count": null,
   "metadata": {
    "ExecuteTime": {
     "end_time": "2022-09-01T22:20:52.009198Z",
     "start_time": "2022-09-01T22:20:45.441129Z"
    }
   },
   "outputs": [],
   "source": [
    "d_area_trimmed = pd.read_csv(out_path+'distance_and_area_filtered_complete_kinetic.csv', index_col=0)"
   ]
  },
  {
   "cell_type": "code",
   "execution_count": null,
   "metadata": {
    "ExecuteTime": {
     "end_time": "2022-09-01T22:20:52.027328Z",
     "start_time": "2022-09-01T22:20:52.010831Z"
    }
   },
   "outputs": [],
   "source": [
    "# expected values\n",
    "labels = np.unique(np.concatenate((d_area_trimmed.Label_left.unique(),\\\n",
    "                                   d_area_trimmed.Label_right.unique()), axis=None))\n",
    "# num_wells in first cell\n",
    "num_inputs = len(labels)\n",
    "\n",
    "num_combo = scipy.special.comb(num_inputs,2)+num_inputs\n",
    "exp_reps = int((num_wells/num_combo).round()) # if all combos equal\n",
    "\n",
    "wells_passed = d_area_trimmed.shape[0]\n",
    "chip_eff = wells_passed/num_wells\n",
    "reps_eff = int(chip_eff*exp_reps) "
   ]
  },
  {
   "cell_type": "code",
   "execution_count": null,
   "metadata": {
    "ExecuteTime": {
     "end_time": "2022-09-01T22:20:52.584703Z",
     "start_time": "2022-09-01T22:20:52.580213Z"
    }
   },
   "outputs": [],
   "source": [
    "print('Total No. of Inputs: %s' %num_inputs)\n",
    "print('Expected Replicate Count @ 100%: ' + str(exp_reps))\n",
    "print('')\n",
    "\n",
    "print('No. Microwells after Filtering: %s' %wells_passed)\n",
    "print('Chip Efficiency: {:.3f}'.format(chip_eff))\n",
    "print('Expected Replicate Count: %s' %reps_eff)"
   ]
  },
  {
   "cell_type": "markdown",
   "metadata": {},
   "source": [
    "## counts & distributions"
   ]
  },
  {
   "cell_type": "code",
   "execution_count": null,
   "metadata": {
    "ExecuteTime": {
     "end_time": "2022-09-01T22:20:52.033664Z",
     "start_time": "2022-09-01T22:20:52.028821Z"
    }
   },
   "outputs": [],
   "source": [
    "# store counts of unique Hashes\n",
    "counts_df = d_area_trimmed[['Label_left', 'Label_right', 'Hash']]"
   ]
  },
  {
   "cell_type": "code",
   "execution_count": null,
   "metadata": {
    "ExecuteTime": {
     "end_time": "2022-09-01T22:20:52.058389Z",
     "start_time": "2022-09-01T22:20:52.035116Z"
    }
   },
   "outputs": [],
   "source": [
    "# summarize all unique combinations\n",
    "counts_all = counts_df.groupby(['Label_left', 'Label_right']).count()\n",
    "av_counts_all = counts_all.Hash.mean()\n",
    "med_counts_all = counts_all.Hash.median()"
   ]
  },
  {
   "cell_type": "code",
   "execution_count": null,
   "metadata": {
    "ExecuteTime": {
     "end_time": "2022-09-01T22:20:52.590152Z",
     "start_time": "2022-09-01T22:20:52.586291Z"
    },
    "scrolled": true
   },
   "outputs": [],
   "source": [
    "print('Average replicate count for all combos: '+str(av_counts_all))\n",
    "print('Median replicate count for all combos: '+str(med_counts_all))\n",
    "print('')\n",
    "print('No. media/media counts: '+str(mm_count))"
   ]
  },
  {
   "cell_type": "code",
   "execution_count": null,
   "metadata": {
    "ExecuteTime": {
     "end_time": "2022-09-01T22:20:52.065335Z",
     "start_time": "2022-09-01T22:20:52.060643Z"
    }
   },
   "outputs": [],
   "source": [
    "def count_combo_types(left, right, df=counts_df):\n",
    "    ''' For specific combinations' distributions.\n",
    "    '''\n",
    "    sub_df = df[df.Label_left.str.contains(left) & \n",
    "                df.Label_right.str.contains(right)]\n",
    "    counts = sub_df.groupby(['Label_left', 'Label_right']).count()\n",
    "    av = counts.Hash.mean()\n",
    "    med = counts.Hash.median()\n",
    "    std = counts.Hash.std()\n",
    "    ct_sum = counts.Hash.sum()\n",
    "    \n",
    "    return av, med, std, ct_sum, counts"
   ]
  },
  {
   "cell_type": "code",
   "execution_count": null,
   "metadata": {
    "ExecuteTime": {
     "end_time": "2022-09-01T22:20:52.073095Z",
     "start_time": "2022-09-01T22:20:52.067433Z"
    }
   },
   "outputs": [],
   "source": [
    "def plot_count_distr(counts, title, save_desc, num_bin=20, save_dir=qc_path):\n",
    "    ''' Coplots histogram distribution & boxplot from df.\n",
    "    counts: df generated from count_combo_types [-1]\n",
    "    save_desc: (str) unique identifier to file\n",
    "    '''\n",
    "    f, (ax_hist, ax_box) = plt.subplots(2, sharex=True,\\\n",
    "                                        gridspec_kw={\"height_ratios\": (.95 ,.05)})\n",
    "    \n",
    "    sns.boxplot(counts, ax=ax_box, fliersize=0.1, boxprops=dict(alpha=.5))\n",
    "    sns.distplot(counts, ax=ax_hist, kde=False, bins=num_bin)\n",
    "    ax_hist.set_xlabel('')\n",
    "    ax_hist.set_title(title)\n",
    "    plt.xlabel('No. Microwells Observed')\n",
    "    ax_hist.set_ylabel('Counts of Combinations')\n",
    "    \n",
    "    plt.savefig(save_dir+'counts_distribution_'+save_desc+'.png')\n",
    "    return"
   ]
  },
  {
   "cell_type": "code",
   "execution_count": null,
   "metadata": {
    "ExecuteTime": {
     "end_time": "2022-09-01T22:36:46.518638Z",
     "start_time": "2022-09-01T22:36:45.843453Z"
    }
   },
   "outputs": [],
   "source": [
    "plot_count_distr(counts_all.Hash, 'all_combinations', 'all_combo')"
   ]
  },
  {
   "cell_type": "markdown",
   "metadata": {},
   "source": [
    "## check if there are unrepresented combinations"
   ]
  },
  {
   "cell_type": "code",
   "execution_count": null,
   "metadata": {
    "ExecuteTime": {
     "end_time": "2022-09-01T22:37:33.666112Z",
     "start_time": "2022-09-01T22:37:33.663376Z"
    }
   },
   "outputs": [],
   "source": [
    "expected_num_combos = num_combo"
   ]
  },
  {
   "cell_type": "code",
   "execution_count": null,
   "metadata": {
    "ExecuteTime": {
     "end_time": "2022-09-01T22:37:34.377942Z",
     "start_time": "2022-09-01T22:37:34.248777Z"
    }
   },
   "outputs": [],
   "source": [
    "counts_concat = helper.concatenate_labels(counts_df)"
   ]
  },
  {
   "cell_type": "code",
   "execution_count": null,
   "metadata": {
    "ExecuteTime": {
     "end_time": "2022-09-01T22:37:34.729290Z",
     "start_time": "2022-09-01T22:37:34.711661Z"
    }
   },
   "outputs": [],
   "source": [
    "actual_num_combo = len(counts_concat.Labels_combo.unique())\n",
    "actual_num_combo"
   ]
  },
  {
   "cell_type": "code",
   "execution_count": null,
   "metadata": {
    "ExecuteTime": {
     "end_time": "2022-09-01T22:37:35.667821Z",
     "start_time": "2022-09-01T22:37:35.663542Z"
    }
   },
   "outputs": [],
   "source": [
    "num_missing = num_combo - actual_num_combo\n",
    "num_missing"
   ]
  },
  {
   "cell_type": "markdown",
   "metadata": {},
   "source": [
    "# Media Subtract\n",
    "- export a .csv, trimming excess columns not used in downstream analysis\n",
    "- media subtraction RFU values per tp"
   ]
  },
  {
   "cell_type": "markdown",
   "metadata": {},
   "source": [
    "## trim for columns relevant downstream\n",
    "- only need the labels and time point RFU values for calling hits"
   ]
  },
  {
   "cell_type": "code",
   "execution_count": null,
   "metadata": {
    "ExecuteTime": {
     "end_time": "2022-09-01T22:37:45.006921Z",
     "start_time": "2022-09-01T22:37:37.197988Z"
    }
   },
   "outputs": [],
   "source": [
    "d_area_trimmed = pd.read_csv(out_path+'distance_and_area_filtered_complete_kinetic.csv',index_col=0)"
   ]
  },
  {
   "cell_type": "code",
   "execution_count": null,
   "metadata": {
    "ExecuteTime": {
     "end_time": "2022-09-01T22:37:53.283045Z",
     "start_time": "2022-09-01T22:37:45.009459Z"
    }
   },
   "outputs": [],
   "source": [
    "subcols = ['Label_left', 'Label_right'] + [i for i in d_area_trimmed if '_norm' in i]\n",
    "trimmed_subdf = d_area_trimmed[subcols]\n",
    "trimmed_subdf.to_csv(core_path+'trimmed_for_labels_and_rfu.csv')"
   ]
  },
  {
   "cell_type": "markdown",
   "metadata": {},
   "source": [
    "## subtraction with min zero\n",
    "**default:** subtract using median media/media signal"
   ]
  },
  {
   "cell_type": "code",
   "execution_count": null,
   "metadata": {
    "ExecuteTime": {
     "end_time": "2022-09-01T22:37:54.777310Z",
     "start_time": "2022-09-01T22:37:53.285427Z"
    }
   },
   "outputs": [],
   "source": [
    "trimmed_subdf = pd.read_csv(core_path+'trimmed_for_labels_and_rfu.csv',index_col=0)"
   ]
  },
  {
   "cell_type": "code",
   "execution_count": null,
   "metadata": {
    "ExecuteTime": {
     "end_time": "2022-09-01T22:37:54.783232Z",
     "start_time": "2022-09-01T22:37:54.779451Z"
    }
   },
   "outputs": [],
   "source": [
    "def subtract_media_per_tp(df, media_summ, mode='median'):\n",
    "    '''\n",
    "    Subtracts the background media/media RFU value \n",
    "    from each microwell for the respective timepoint (col).\n",
    "    \n",
    "    df: unblanked dataframe\n",
    "    median_summ: dataframe containing summarized media/media values\n",
    "    mode: 'mean' or 'median' of media/media droplets\n",
    "    '''\n",
    "    sub = df.copy()\n",
    "    for col in media_summ.columns:\n",
    "        sub[col] = sub[col] - media_summ[col][mode]\n",
    "\n",
    "    return sub"
   ]
  },
  {
   "cell_type": "code",
   "execution_count": null,
   "metadata": {
    "ExecuteTime": {
     "end_time": "2022-09-01T22:37:57.077685Z",
     "start_time": "2022-09-01T22:37:54.785093Z"
    }
   },
   "outputs": [],
   "source": [
    "media_save = '_media_media'\n",
    "helper.summarize_single_combo(df=trimmed_subdf, left='MEDIA', right='MEDIA', save_dir=core_path, save_desc=media_save)"
   ]
  },
  {
   "cell_type": "code",
   "execution_count": null,
   "metadata": {
    "ExecuteTime": {
     "end_time": "2022-09-01T22:37:57.090806Z",
     "start_time": "2022-09-01T22:37:57.080221Z"
    }
   },
   "outputs": [],
   "source": [
    "media_med = pd.read_csv(core_path+'summarized'+media_save+'.csv', index_col=0)"
   ]
  },
  {
   "cell_type": "code",
   "execution_count": null,
   "metadata": {
    "ExecuteTime": {
     "end_time": "2022-09-01T22:37:57.114314Z",
     "start_time": "2022-09-01T22:37:57.092667Z"
    }
   },
   "outputs": [],
   "source": [
    "media_med"
   ]
  },
  {
   "cell_type": "code",
   "execution_count": null,
   "metadata": {
    "ExecuteTime": {
     "end_time": "2022-09-01T22:38:05.316008Z",
     "start_time": "2022-09-01T22:37:57.116950Z"
    }
   },
   "outputs": [],
   "source": [
    "blanked_df = subtract_media_per_tp(trimmed_subdf, media_med)\n",
    "blanked_df.to_csv(core_path+'trimmed_label_rfu_blanked_notfloored.csv')"
   ]
  },
  {
   "cell_type": "code",
   "execution_count": null,
   "metadata": {
    "ExecuteTime": {
     "end_time": "2022-09-01T22:38:05.397006Z",
     "start_time": "2022-09-01T22:38:05.318558Z"
    },
    "scrolled": true
   },
   "outputs": [],
   "source": [
    "blanked_df"
   ]
  },
  {
   "cell_type": "code",
   "execution_count": null,
   "metadata": {
    "ExecuteTime": {
     "end_time": "2022-09-01T22:38:15.566897Z",
     "start_time": "2022-09-01T22:38:05.399308Z"
    },
    "scrolled": true
   },
   "outputs": [],
   "source": [
    "blanked_df = blanked_df.applymap(lambda x:(0 if x < 0 else x) if isinstance(x, float) else x)\n",
    "blanked_df.to_csv(core_path+'trimmed_label_rfu_blanked.csv')\n",
    "blanked_df"
   ]
  },
  {
   "cell_type": "markdown",
   "metadata": {},
   "source": [
    "# Z' Analysis\n",
    "- assess effect size on chip"
   ]
  },
  {
   "cell_type": "markdown",
   "metadata": {},
   "source": [
    "## coculture - 1F97/12B09"
   ]
  },
  {
   "cell_type": "markdown",
   "metadata": {},
   "source": [
    "### empirical values"
   ]
  },
  {
   "cell_type": "code",
   "execution_count": null,
   "metadata": {
    "ExecuteTime": {
     "end_time": "2022-09-01T22:38:17.058737Z",
     "start_time": "2022-09-01T22:38:15.569278Z"
    }
   },
   "outputs": [],
   "source": [
    "blanked = pd.read_csv(core_path+'trimmed_label_rfu_blanked.csv', index_col=0)"
   ]
  },
  {
   "cell_type": "code",
   "execution_count": null,
   "metadata": {
    "ExecuteTime": {
     "end_time": "2022-09-01T22:38:17.455044Z",
     "start_time": "2022-09-01T22:38:17.060764Z"
    }
   },
   "outputs": [],
   "source": [
    "# cocultures\n",
    "pos_co = helper.extract_combos(blanked, '12B09_high', '1F97_high')\n",
    "neg_co = helper.extract_combos(blanked, '1F97_high', '1F97_high')\n",
    "\n",
    "# monocultures\n",
    "mono_12B = helper.extract_combos(blanked, '12B09_high', 'MEDIA')\n",
    "mono_1F = helper.extract_combos(blanked, '1F97_high', 'MEDIA')"
   ]
  },
  {
   "cell_type": "code",
   "execution_count": null,
   "metadata": {},
   "outputs": [],
   "source": [
    "# not error-adjusted yet\n",
    "co_auc = auc(range(0, num_tp),pos_co.median())\n",
    "neg_auc = auc(range(0, num_tp),neg_co.median())\n",
    "\n",
    "mono12B_auc = auc(range(0, num_tp), mono_12B.median())\n",
    "mono1F_auc = auc(range(0, num_tp), mono_1F.median())\n",
    "\n",
    "sum_auc = mono12B_auc + mono1F_auc \n",
    "negsum_auc = mono1F_auc*2\n",
    "\n",
    "pos_dAUC = helper.calc_dAUC(co_auc, sum_auc)\n",
    "neg_dAUC = helper.calc_dAUC(neg_auc, negsum_auc)\n",
    "print(pos_dAUC, neg_dAUC)"
   ]
  },
  {
   "cell_type": "markdown",
   "metadata": {},
   "source": [
    "### bootstrap for SE"
   ]
  },
  {
   "cell_type": "code",
   "execution_count": null,
   "metadata": {
    "ExecuteTime": {
     "end_time": "2022-09-01T22:38:19.351582Z",
     "start_time": "2022-09-01T22:38:17.457422Z"
    }
   },
   "outputs": [],
   "source": [
    "# mean of medians, SEM, all bs AUCs\n",
    "pos_bs = bsz.boot_microwells(pos_co.filter(like='norm'))\n",
    "neg_bs = bsz.boot_microwells(neg_co.filter(like='norm'))\n",
    "\n",
    "mono12B_bs = bsz.boot_microwells(mono_12B.filter(like='norm'))\n",
    "mono1F_bs = bsz.boot_microwells(mono_1F.filter(like='norm'))"
   ]
  },
  {
   "cell_type": "code",
   "execution_count": null,
   "metadata": {
    "ExecuteTime": {
     "end_time": "2022-09-01T22:38:26.656637Z",
     "start_time": "2022-09-01T22:38:26.651085Z"
    }
   },
   "outputs": [],
   "source": [
    "all_bs = pd.DataFrame({'co_12B1Fhh': pos_bs[2], 'co_12B12Bhh': mono12B_bs[2],'co_1F1Fhh': mono1F_bs[2],\n",
    "                       'mono_12Bh': mono12B_bs[2], 'mono_1Fh': mono1F_bs[2]})"
   ]
  },
  {
   "cell_type": "code",
   "execution_count": null,
   "metadata": {
    "ExecuteTime": {
     "end_time": "2022-09-01T22:38:26.722764Z",
     "start_time": "2022-09-01T22:38:26.658527Z"
    }
   },
   "outputs": [],
   "source": [
    "updated_bs = helper.calc_dAUC_per_bs(all_bs, 'co_12B1Fhh', 'mono_12Bh', 'mono_1Fh', 'dAUC_12B1F')\n",
    "updated_bs1 = helper.calc_dAUC_per_bs(all_bs, 'co_12B12Bhh', 'mono_12Bh', 'mono_12Bh', 'dAUC_12B12B')\n",
    "updated_bs2 = helper.calc_dAUC_per_bs(all_bs, 'co_1F1Fhh', 'mono_1Fh', 'mono_1Fh', 'dAUC_1F1F')"
   ]
  },
  {
   "cell_type": "code",
   "execution_count": null,
   "metadata": {
    "ExecuteTime": {
     "end_time": "2022-09-01T22:38:26.773490Z",
     "start_time": "2022-09-01T22:38:26.724589Z"
    }
   },
   "outputs": [],
   "source": [
    "all_bs = pd.concat([updated_bs, updated_bs1, updated_bs2], join='inner')\n",
    "all_bs.to_csv(z_path+'bootstrapped_AUCs_for_z.csv')"
   ]
  },
  {
   "cell_type": "code",
   "execution_count": null,
   "metadata": {
    "ExecuteTime": {
     "end_time": "2022-09-01T22:38:26.789941Z",
     "start_time": "2022-09-01T22:38:26.775401Z"
    }
   },
   "outputs": [],
   "source": [
    "all_bs = pd.read_csv(z_path+'bootstrapped_AUCs_for_z.csv', index_col=0)"
   ]
  },
  {
   "cell_type": "code",
   "execution_count": null,
   "metadata": {
    "ExecuteTime": {
     "end_time": "2022-09-01T22:38:26.816620Z",
     "start_time": "2022-09-01T22:38:26.791858Z"
    },
    "scrolled": true
   },
   "outputs": [],
   "source": [
    "all_bs"
   ]
  },
  {
   "cell_type": "code",
   "execution_count": null,
   "metadata": {
    "ExecuteTime": {
     "end_time": "2022-09-01T22:38:26.823110Z",
     "start_time": "2022-09-01T22:38:26.818515Z"
    }
   },
   "outputs": [],
   "source": [
    "pos_score_bs = all_bs.dAUC_12B1F.mean()\n",
    "pos_score_bs_std = all_bs.dAUC_12B1F.std()\n",
    "\n",
    "print(pos_score_bs,pos_score_bs_std)"
   ]
  },
  {
   "cell_type": "markdown",
   "metadata": {},
   "source": [
    "### calculate Z'"
   ]
  },
  {
   "cell_type": "code",
   "execution_count": null,
   "metadata": {
    "ExecuteTime": {
     "end_time": "2022-09-01T22:38:26.843849Z",
     "start_time": "2022-09-01T22:38:26.839663Z"
    }
   },
   "outputs": [],
   "source": [
    "z_1F = bsz.calc_z(pos_dAUC, neg_dAUC, np.std(all_bs.dAUC_12B1F), np.std(all_bs.dAUC_1F1F))\n",
    "z_1F"
   ]
  },
  {
   "cell_type": "markdown",
   "metadata": {},
   "source": [
    "### visualize positive control curve\n",
    "- also error-adjusts empirical kinetic data"
   ]
  },
  {
   "cell_type": "code",
   "execution_count": null,
   "metadata": {
    "ExecuteTime": {
     "end_time": "2022-09-01T22:38:26.882712Z",
     "start_time": "2022-09-01T22:38:26.873064Z"
    }
   },
   "outputs": [],
   "source": [
    "tp = [x/2 for x in range(len(pos_bs[0]))]\n",
    "\n",
    "co_low = np.subtract(pos_co.median(), pos_bs[1])\n",
    "co_up = np.add(pos_co.median(), pos_bs[1])\n",
    "co_auc = auc(tp, co_low)\n",
    "\n",
    "mono1_up = np.add(mono_12B.median(), mono12B_bs[1])\n",
    "mono2_up = np.add(mono_1F.median(), mono1F_bs[1])\n",
    "mono1_low = np.subtract(mono_12B.median(), mono12B_bs[1])\n",
    "mono2_low = np.subtract(mono_1F.median(), mono1F_bs[1])\n",
    "\n",
    "mono_sum = np.add(mono1_up, mono2_up)\n",
    "sum_auc = auc(tp, mono_sum)\n",
    "\n",
    "pos_adj_score = helper.calc_dAUC(co_auc, sum_auc)\n",
    "\n",
    "# for lineplot\n",
    "pos_df = pd.DataFrame({'tp': tp,\n",
    "                       'co': pos_co.median(), 'co_up': co_up, 'co_low': co_low,\n",
    "                       'mono1': mono12B_bs[0], 'mono1_up': mono1_up, 'mono1_low': mono1_low,\n",
    "                       'mono2': mono1F_bs[0], 'mono2_up': mono2_up, 'mono2_low': mono2_low,\n",
    "                       'mono_sum': mono_sum})"
   ]
  },
  {
   "cell_type": "code",
   "execution_count": null,
   "metadata": {
    "ExecuteTime": {
     "end_time": "2022-09-01T22:38:26.889532Z",
     "start_time": "2022-09-01T22:38:26.884605Z"
    }
   },
   "outputs": [],
   "source": [
    "# error-adjusted empirical lysis score\n",
    "pos_score"
   ]
  },
  {
   "cell_type": "code",
   "execution_count": null,
   "metadata": {
    "ExecuteTime": {
     "end_time": "2022-09-01T22:38:28.226232Z",
     "start_time": "2022-09-01T22:38:26.891118Z"
    }
   },
   "outputs": [],
   "source": [
    "plt.figure(figsize=(10,9))\n",
    "co = sns.lineplot(data=pos_df, x='tp', y='co', ci=None, linewidth=2)\n",
    "co.fill_between(pos_df.tp, pos_df.co_low, pos_df.co_up, alpha=0.2)\n",
    "\n",
    "mono_sum = sns.lineplot(data=pos_df, x='tp', y='mono_sum', ci=None, linewidth=2)\n",
    "mono_sum.fill_between(pos_df.tp, [0]*len(pos_df.tp), [0]*len(pos_df.tp), alpha=0.2)\n",
    "\n",
    "left = sns.lineplot(data=pos_df, x='tp', y='mono1', ci=None, linewidth=2)\n",
    "left.fill_between(pos_df.tp, pos_df.mono1_low, pos_df.mono1_up, alpha=0.2)\n",
    "\n",
    "right = sns.lineplot(data=pos_df, x='tp', y='mono2', ci=None, linewidth=2)\n",
    "right.fill_between(pos_df.tp, pos_df.mono2_low, pos_df.mono2_up, alpha=.2)\n",
    "\n",
    "ax = plt.gca() # get current axes\n",
    "ax.yaxis.set_major_locator(plt.MaxNLocator(4)) # reduce noise on axis\n",
    "ax.xaxis.set_major_locator(plt.MaxNLocator(6))\n",
    "plt.xticks(fontsize=16)\n",
    "plt.yticks(fontsize=16)\n",
    "\n",
    "plt.ylabel('RFU', fontsize=20)\n",
    "plt.xlabel('time (h)', fontsize=20)\n",
    "\n",
    "plt.title('12B09_high/1F97_low')\n",
    "plt.legend(['coculture', 'monoculture sum', '12B09_high', '1F97_high'], bbox_to_anchor=(1.2,0.5))\n",
    "plt.savefig(qc_path+'visualize_individual_12B1F_sns.png')"
   ]
  },
  {
   "cell_type": "markdown",
   "metadata": {},
   "source": [
    "# Save QC Summary"
   ]
  },
  {
   "cell_type": "code",
   "execution_count": null,
   "metadata": {
    "ExecuteTime": {
     "end_time": "2022-09-01T22:38:28.237248Z",
     "start_time": "2022-09-01T22:38:28.228336Z"
    }
   },
   "outputs": [],
   "source": [
    "summary_df = pd.DataFrame({'Chip': [chip_name], 'No. Inputs': [num_inputs], 'No. Combos': [num_combo], \n",
    "                           'Pre-Incomplete Kinetic Removed': [w_incomplete.shape[0]],\n",
    "                           'Incomplete Kinetic Removed': [d_area_trimmed.shape[0]],\n",
    "                           'Expected Replicates': [exp_reps], \n",
    "                           'Chip Efficiency': [chip_eff], 'Expected Replicates_Eff': [reps_eff],\n",
    "                           'Average Rep (All)': [av_counts_all], 'Median Rep (All)': [med_counts_all],\n",
    "                           'Lowest Combo Rep':[counts_all.Hash.min()], 'Media/Media Counts': [mm_count], \n",
    "                           'Median Rep (Coculture)': [bugs.Hash.median()], 'Median Rep (Mono)': [mono.Hash.mean()],\n",
    "                           'No. Missing Combos': [num_missing], \n",
    "                           'Empirical 1F/12B score': [pos_dAUC],\n",
    "                           'Error-Adjusted Empirical 1F/12B score': [pos_adj_score],\n",
    "                           'z_1F12B_to1F': [z_1F]}).T"
   ]
  },
  {
   "cell_type": "code",
   "execution_count": null,
   "metadata": {
    "ExecuteTime": {
     "end_time": "2022-09-01T22:38:28.250685Z",
     "start_time": "2022-09-01T22:38:28.239252Z"
    }
   },
   "outputs": [],
   "source": [
    "summary_df"
   ]
  },
  {
   "cell_type": "code",
   "execution_count": null,
   "metadata": {
    "ExecuteTime": {
     "end_time": "2022-09-01T22:38:28.257454Z",
     "start_time": "2022-09-01T22:38:28.252554Z"
    }
   },
   "outputs": [],
   "source": [
    "summary_df.to_csv(qc_path+'chip_QC_summary.csv')"
   ]
  },
  {
   "cell_type": "code",
   "execution_count": null,
   "metadata": {},
   "outputs": [],
   "source": []
  }
 ],
 "metadata": {
  "kernelspec": {
   "display_name": "Python 3",
   "language": "python",
   "name": "python3"
  },
  "language_info": {
   "codemirror_mode": {
    "name": "ipython",
    "version": 3
   },
   "file_extension": ".py",
   "mimetype": "text/x-python",
   "name": "python",
   "nbconvert_exporter": "python",
   "pygments_lexer": "ipython3",
   "version": "3.7.4"
  },
  "toc": {
   "base_numbering": 1,
   "nav_menu": {},
   "number_sections": true,
   "sideBar": true,
   "skip_h1_title": false,
   "title_cell": "Table of Contents",
   "title_sidebar": "Contents",
   "toc_cell": false,
   "toc_position": {
    "height": "calc(100% - 180px)",
    "left": "10px",
    "top": "150px",
    "width": "242.297px"
   },
   "toc_section_display": true,
   "toc_window_display": true
  },
  "varInspector": {
   "cols": {
    "lenName": 16,
    "lenType": 16,
    "lenVar": 40
   },
   "kernels_config": {
    "python": {
     "delete_cmd_postfix": "",
     "delete_cmd_prefix": "del ",
     "library": "var_list.py",
     "varRefreshCmd": "print(var_dic_list())"
    },
    "r": {
     "delete_cmd_postfix": ") ",
     "delete_cmd_prefix": "rm(",
     "library": "var_list.r",
     "varRefreshCmd": "cat(var_dic_list()) "
    }
   },
   "types_to_exclude": [
    "module",
    "function",
    "builtin_function_or_method",
    "instance",
    "_Feature"
   ],
   "window_display": false
  }
 },
 "nbformat": 4,
 "nbformat_minor": 2
}
